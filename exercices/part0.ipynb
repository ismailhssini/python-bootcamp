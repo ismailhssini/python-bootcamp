{
 "cells": [
  {
   "cell_type": "markdown",
   "id": "66a0a543",
   "metadata": {},
   "source": [
    "# Python Basic Exercises"
   ]
  },
  {
   "cell_type": "markdown",
   "id": "0c1cd8ec",
   "metadata": {},
   "source": [
    "## Exercise 0:\n",
    "\n",
    "create a program that take a name from a user and print hello with the name of the user.\n",
    "- Example:\n",
    "\n",
    "``` input: Hamid```\n",
    "\n",
    "```output: Hello Hamid```\n"
   ]
  },
  {
   "cell_type": "code",
   "execution_count": 2,
   "id": "b9fe2983",
   "metadata": {},
   "outputs": [
    {
     "name": "stdout",
     "output_type": "stream",
     "text": [
      "Enter your name Nouredine\n",
      "hello Nouredine\n"
     ]
    }
   ],
   "source": [
    "name = input(\"Enter your name \")\n",
    "print(\"hello\", name)"
   ]
  },
  {
   "cell_type": "markdown",
   "id": "4884c029",
   "metadata": {},
   "source": [
    "## Exercise 1:\n",
    "\n",
    "write a program that take a string from a user, and print the string with capitalize the vowels letters {a, o, u, i, e}.\n",
    "\n",
    "**Example:**\n",
    "\n",
    "`hello world`\n",
    "\n",
    "**output:**\n",
    "\n",
    "`hEllO wOrld`"
   ]
  },
  {
   "cell_type": "code",
   "execution_count": 6,
   "id": "a3f8d6f4",
   "metadata": {},
   "outputs": [
    {
     "name": "stdout",
     "output_type": "stream",
     "text": [
      "t E s t "
     ]
    }
   ],
   "source": [
    "# your code goes here\n",
    "def cap_vow(a):\n",
    "    for i in a:\n",
    "        if i in \"aouie\":\n",
    "            print(i.upper(), end = ' ')\n",
    "        else:\n",
    "            print(i, end = ' ')\n",
    "cap_vow('test')"
   ]
  },
  {
   "cell_type": "markdown",
   "id": "ab24c130",
   "metadata": {},
   "source": [
    "## Exercise 2:\n",
    "\n",
    "create a program that take a two numbers from a user and print their sum and multiplication.\n",
    "- Example:\n",
    "\n",
    "```\n",
    "input 1: 3\n",
    "input 2: 4\n",
    "```\n",
    "\n",
    "```\n",
    "program output:\n",
    "\n",
    "multiplication of 3 and 4 is 12\n",
    "sum of 3 and 4 is 7\n",
    "```\n"
   ]
  },
  {
   "cell_type": "code",
   "execution_count": 1,
   "id": "08a81476",
   "metadata": {},
   "outputs": [
    {
     "name": "stdout",
     "output_type": "stream",
     "text": [
      "entrer le nombre a 2\n",
      "entrer le nombre b 3\n",
      "la somme de  2 et 3 est 5\n",
      "la multiplication de  2 et 3 est 6\n"
     ]
    }
   ],
   "source": [
    "a=int(input('entrer le nombre a '))\n",
    "b=int(input('entrer le nombre b '))\n",
    "print('la somme de ' ,a, 'et' ,b, 'est' ,a+b)\n",
    "print('la multiplication de ' ,a, 'et' ,b, 'est' ,a*b)"
   ]
  },
  {
   "cell_type": "markdown",
   "id": "42cfa564",
   "metadata": {},
   "source": [
    "## Exercise 3: \n",
    "\n",
    "Display three string “Name”, “Is”, “James” as “Name**Is**James”\n",
    "\n",
    "Use the print() function to format the given words in the mentioned format. Display the ** separator between each string.\n",
    "\n",
    "**Expected Output:**\n",
    "\n",
    "For example: print('Name', 'Is', 'James') will display Name**Is**James"
   ]
  },
  {
   "cell_type": "code",
   "execution_count": 2,
   "id": "4c4b071b",
   "metadata": {},
   "outputs": [
    {
     "name": "stdout",
     "output_type": "stream",
     "text": [
      "My**Name**Is**James\n"
     ]
    }
   ],
   "source": [
    "print('My','Name', 'Is', 'James', sep='**')\n"
   ]
  },
  {
   "cell_type": "markdown",
   "id": "df1581eb",
   "metadata": {},
   "source": [
    "## Exercise 4:\n",
    "\n",
    "Print First 10 natural numbers using while loop\n",
    "\n",
    "*Expected output:*\n",
    "```\n",
    "1\n",
    "2\n",
    "3\n",
    "4\n",
    "5\n",
    "6\n",
    "7\n",
    "8\n",
    "9\n",
    "10\n",
    "```"
   ]
  },
  {
   "cell_type": "code",
   "execution_count": null,
   "id": "bf55b679",
   "metadata": {},
   "outputs": [],
   "source": [
    "i=0\n",
    "while i<11:\n",
    "    print(i)\n",
    "    i=i+1"
   ]
  },
  {
   "cell_type": "markdown",
   "id": "d025dccb",
   "metadata": {},
   "source": [
    "## Exercise 5:\n",
    "\n",
    "Write a program to print the following number pattern using a loop.\n",
    "```\n",
    "1 \n",
    "1 2 \n",
    "1 2 3 \n",
    "1 2 3 4 \n",
    "1 2 3 4 5\n",
    "```"
   ]
  },
  {
   "cell_type": "code",
   "execution_count": 1,
   "id": "cdb3264a",
   "metadata": {},
   "outputs": [
    {
     "name": "stdout",
     "output_type": "stream",
     "text": [
      "1\n",
      "12\n",
      "123\n",
      "1234\n",
      "12345\n"
     ]
    }
   ],
   "source": [
    "s=''\n",
    "for i in range(1,6):\n",
    "    s+=str(i)\n",
    "    print(s)"
   ]
  },
  {
   "cell_type": "markdown",
   "id": "d2b20a44",
   "metadata": {},
   "source": [
    "## Exercise 5:\n",
    "- write a program that take a number from the user and print the multiplication table of that number.\n",
    "\n",
    "** Example:**\n",
    "5\n",
    "```\n",
    "1 * 5 = 5\n",
    "2 * 5 = 10\n",
    "...\n",
    "12 * 5 = 60\n",
    "```"
   ]
  },
  {
   "cell_type": "code",
   "execution_count": null,
   "id": "f5350502",
   "metadata": {},
   "outputs": [],
   "source": [
    "a=int(input('entrer un nombre: '))\n",
    "for i in range(13):\n",
    "    print(i, '*' ,a, '=' ,(a*i))"
   ]
  },
  {
   "cell_type": "markdown",
   "id": "16fedacf",
   "metadata": {},
   "source": [
    "## Exercise 6: Calculate the multiplication and sum of two numbers"
   ]
  },
  {
   "cell_type": "markdown",
   "id": "6d5db219",
   "metadata": {},
   "source": [
    "Given two integer numbers return their product only if the product is greater than 1000, else return their sum.\n",
    "\n",
    "- given 1:\n",
    "```python\n",
    "number1 = 20\n",
    "number2 = 30\n",
    "```\n",
    "- output:\n",
    "```\n",
    "The result is 600\n",
    "```\n",
    "- given 2:\n",
    "```python\n",
    "number1 = 40\n",
    "number2 = 30\n",
    "```\n",
    "- output:\n",
    "```\n",
    "The result is 70\n",
    "```"
   ]
  },
  {
   "cell_type": "code",
   "execution_count": 6,
   "id": "792fc9d7",
   "metadata": {},
   "outputs": [],
   "source": [
    "a=int(input('entrer le nombre a '))\n",
    "b=int(input('entrer le nombre b '))\n",
    "if a*b>1000:\n",
    "    print('the result is ',a*b)\n",
    "else:\n",
    "    print('the result is ',a+b)"
   ]
  },
  {
   "cell_type": "markdown",
   "id": "7be4b877",
   "metadata": {},
   "source": [
    "## Exercise 5:\n",
    "\n",
    "Check if the first and last number of a list is the same\n",
    "Write a function to return `True` if the first and last number of a given list is same. If numbers are different then return `False`.\n",
    "\n",
    "**Given:**\n",
    "```python\n",
    "numbers_x = [10, 20, 30, 40, 10]\n",
    "numbers_y = [75, 65, 35, 75, 30]\n",
    "```\n",
    "\n",
    "**Expected Output:**\n",
    "```\n",
    "Given list: [10, 20, 30, 40, 10]\n",
    "result is True\n",
    "\n",
    "numbers_y = [75, 65, 35, 75, 30]\n",
    "result is False\n",
    "```"
   ]
  },
  {
   "cell_type": "code",
   "execution_count": null,
   "id": "242e0d0a",
   "metadata": {},
   "outputs": [],
   "source": [
    "def firstLast(t):\n",
    "    n=len(t)\n",
    "    if t[0]==t[n-1]:\n",
    "        return True\n",
    "    else:\n",
    "        return False"
   ]
  },
  {
   "cell_type": "code",
   "execution_count": null,
   "id": "f0b5b18a",
   "metadata": {},
   "outputs": [],
   "source": []
  },
  {
   "cell_type": "code",
   "execution_count": null,
   "id": "881ede06",
   "metadata": {},
   "outputs": [],
   "source": []
  }
 ],
 "metadata": {
  "kernelspec": {
   "display_name": "Python 3 (ipykernel)",
   "language": "python",
   "name": "python3"
  },
  "language_info": {
   "codemirror_mode": {
    "name": "ipython",
    "version": 3
   },
   "file_extension": ".py",
   "mimetype": "text/x-python",
   "name": "python",
   "nbconvert_exporter": "python",
   "pygments_lexer": "ipython3",
   "version": "3.9.7"
  }
 },
 "nbformat": 4,
 "nbformat_minor": 5
}
